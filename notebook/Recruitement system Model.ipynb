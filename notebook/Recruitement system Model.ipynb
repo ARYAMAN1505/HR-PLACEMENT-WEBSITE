{
 "cells": [
  {
   "cell_type": "markdown",
   "id": "3b99897c",
   "metadata": {},
   "source": [
    "# Loading Dataset"
   ]
  },
  {
   "cell_type": "code",
   "execution_count": 3,
   "id": "5f6614c6",
   "metadata": {},
   "outputs": [],
   "source": [
    "import numpy as np\n",
    "import pandas as pd"
   ]
  },
  {
   "cell_type": "code",
   "execution_count": 4,
   "id": "191fa99e",
   "metadata": {},
   "outputs": [],
   "source": [
    "data = pd.read_csv(\"Placement_Data_Full_Class.csv\")"
   ]
  },
  {
   "cell_type": "code",
   "execution_count": 5,
   "id": "68e8d1d8",
   "metadata": {},
   "outputs": [
    {
     "data": {
      "text/html": [
       "<div>\n",
       "<style scoped>\n",
       "    .dataframe tbody tr th:only-of-type {\n",
       "        vertical-align: middle;\n",
       "    }\n",
       "\n",
       "    .dataframe tbody tr th {\n",
       "        vertical-align: top;\n",
       "    }\n",
       "\n",
       "    .dataframe thead th {\n",
       "        text-align: right;\n",
       "    }\n",
       "</style>\n",
       "<table border=\"1\" class=\"dataframe\">\n",
       "  <thead>\n",
       "    <tr style=\"text-align: right;\">\n",
       "      <th></th>\n",
       "      <th>sl_no</th>\n",
       "      <th>gender</th>\n",
       "      <th>ssc_p</th>\n",
       "      <th>ssc_b</th>\n",
       "      <th>hsc_p</th>\n",
       "      <th>hsc_b</th>\n",
       "      <th>hsc_s</th>\n",
       "      <th>degree_p</th>\n",
       "      <th>degree_t</th>\n",
       "      <th>workex</th>\n",
       "      <th>etest_p</th>\n",
       "      <th>specialisation</th>\n",
       "      <th>mba_p</th>\n",
       "      <th>status</th>\n",
       "      <th>salary</th>\n",
       "    </tr>\n",
       "  </thead>\n",
       "  <tbody>\n",
       "    <tr>\n",
       "      <th>0</th>\n",
       "      <td>1</td>\n",
       "      <td>M</td>\n",
       "      <td>67.00</td>\n",
       "      <td>Others</td>\n",
       "      <td>91.00</td>\n",
       "      <td>Others</td>\n",
       "      <td>Commerce</td>\n",
       "      <td>58.00</td>\n",
       "      <td>Sci&amp;Tech</td>\n",
       "      <td>No</td>\n",
       "      <td>55.0</td>\n",
       "      <td>Mkt&amp;HR</td>\n",
       "      <td>58.80</td>\n",
       "      <td>Placed</td>\n",
       "      <td>270000.0</td>\n",
       "    </tr>\n",
       "    <tr>\n",
       "      <th>1</th>\n",
       "      <td>2</td>\n",
       "      <td>M</td>\n",
       "      <td>79.33</td>\n",
       "      <td>Central</td>\n",
       "      <td>78.33</td>\n",
       "      <td>Others</td>\n",
       "      <td>Science</td>\n",
       "      <td>77.48</td>\n",
       "      <td>Sci&amp;Tech</td>\n",
       "      <td>Yes</td>\n",
       "      <td>86.5</td>\n",
       "      <td>Mkt&amp;Fin</td>\n",
       "      <td>66.28</td>\n",
       "      <td>Placed</td>\n",
       "      <td>200000.0</td>\n",
       "    </tr>\n",
       "    <tr>\n",
       "      <th>2</th>\n",
       "      <td>3</td>\n",
       "      <td>M</td>\n",
       "      <td>65.00</td>\n",
       "      <td>Central</td>\n",
       "      <td>68.00</td>\n",
       "      <td>Central</td>\n",
       "      <td>Arts</td>\n",
       "      <td>64.00</td>\n",
       "      <td>Comm&amp;Mgmt</td>\n",
       "      <td>No</td>\n",
       "      <td>75.0</td>\n",
       "      <td>Mkt&amp;Fin</td>\n",
       "      <td>57.80</td>\n",
       "      <td>Placed</td>\n",
       "      <td>250000.0</td>\n",
       "    </tr>\n",
       "    <tr>\n",
       "      <th>3</th>\n",
       "      <td>4</td>\n",
       "      <td>M</td>\n",
       "      <td>56.00</td>\n",
       "      <td>Central</td>\n",
       "      <td>52.00</td>\n",
       "      <td>Central</td>\n",
       "      <td>Science</td>\n",
       "      <td>52.00</td>\n",
       "      <td>Sci&amp;Tech</td>\n",
       "      <td>No</td>\n",
       "      <td>66.0</td>\n",
       "      <td>Mkt&amp;HR</td>\n",
       "      <td>59.43</td>\n",
       "      <td>Not Placed</td>\n",
       "      <td>NaN</td>\n",
       "    </tr>\n",
       "    <tr>\n",
       "      <th>4</th>\n",
       "      <td>5</td>\n",
       "      <td>M</td>\n",
       "      <td>85.80</td>\n",
       "      <td>Central</td>\n",
       "      <td>73.60</td>\n",
       "      <td>Central</td>\n",
       "      <td>Commerce</td>\n",
       "      <td>73.30</td>\n",
       "      <td>Comm&amp;Mgmt</td>\n",
       "      <td>No</td>\n",
       "      <td>96.8</td>\n",
       "      <td>Mkt&amp;Fin</td>\n",
       "      <td>55.50</td>\n",
       "      <td>Placed</td>\n",
       "      <td>425000.0</td>\n",
       "    </tr>\n",
       "  </tbody>\n",
       "</table>\n",
       "</div>"
      ],
      "text/plain": [
       "   sl_no gender  ssc_p    ssc_b  hsc_p    hsc_b     hsc_s  degree_p  \\\n",
       "0      1      M  67.00   Others  91.00   Others  Commerce     58.00   \n",
       "1      2      M  79.33  Central  78.33   Others   Science     77.48   \n",
       "2      3      M  65.00  Central  68.00  Central      Arts     64.00   \n",
       "3      4      M  56.00  Central  52.00  Central   Science     52.00   \n",
       "4      5      M  85.80  Central  73.60  Central  Commerce     73.30   \n",
       "\n",
       "    degree_t workex  etest_p specialisation  mba_p      status    salary  \n",
       "0   Sci&Tech     No     55.0         Mkt&HR  58.80      Placed  270000.0  \n",
       "1   Sci&Tech    Yes     86.5        Mkt&Fin  66.28      Placed  200000.0  \n",
       "2  Comm&Mgmt     No     75.0        Mkt&Fin  57.80      Placed  250000.0  \n",
       "3   Sci&Tech     No     66.0         Mkt&HR  59.43  Not Placed       NaN  \n",
       "4  Comm&Mgmt     No     96.8        Mkt&Fin  55.50      Placed  425000.0  "
      ]
     },
     "execution_count": 5,
     "metadata": {},
     "output_type": "execute_result"
    }
   ],
   "source": [
    "data.head()"
   ]
  },
  {
   "cell_type": "code",
   "execution_count": 6,
   "id": "bce294d1",
   "metadata": {},
   "outputs": [],
   "source": [
    "data.drop(['sl_no','ssc_b','hsc_b', 'hsc_s', 'degree_t', 'salary'], axis=1, inplace=True)"
   ]
  },
  {
   "cell_type": "code",
   "execution_count": 7,
   "id": "f4ee1f56",
   "metadata": {},
   "outputs": [
    {
     "data": {
      "text/html": [
       "<div>\n",
       "<style scoped>\n",
       "    .dataframe tbody tr th:only-of-type {\n",
       "        vertical-align: middle;\n",
       "    }\n",
       "\n",
       "    .dataframe tbody tr th {\n",
       "        vertical-align: top;\n",
       "    }\n",
       "\n",
       "    .dataframe thead th {\n",
       "        text-align: right;\n",
       "    }\n",
       "</style>\n",
       "<table border=\"1\" class=\"dataframe\">\n",
       "  <thead>\n",
       "    <tr style=\"text-align: right;\">\n",
       "      <th></th>\n",
       "      <th>gender</th>\n",
       "      <th>ssc_p</th>\n",
       "      <th>hsc_p</th>\n",
       "      <th>degree_p</th>\n",
       "      <th>workex</th>\n",
       "      <th>etest_p</th>\n",
       "      <th>specialisation</th>\n",
       "      <th>mba_p</th>\n",
       "      <th>status</th>\n",
       "    </tr>\n",
       "  </thead>\n",
       "  <tbody>\n",
       "    <tr>\n",
       "      <th>0</th>\n",
       "      <td>M</td>\n",
       "      <td>67.00</td>\n",
       "      <td>91.00</td>\n",
       "      <td>58.00</td>\n",
       "      <td>No</td>\n",
       "      <td>55.0</td>\n",
       "      <td>Mkt&amp;HR</td>\n",
       "      <td>58.80</td>\n",
       "      <td>Placed</td>\n",
       "    </tr>\n",
       "    <tr>\n",
       "      <th>1</th>\n",
       "      <td>M</td>\n",
       "      <td>79.33</td>\n",
       "      <td>78.33</td>\n",
       "      <td>77.48</td>\n",
       "      <td>Yes</td>\n",
       "      <td>86.5</td>\n",
       "      <td>Mkt&amp;Fin</td>\n",
       "      <td>66.28</td>\n",
       "      <td>Placed</td>\n",
       "    </tr>\n",
       "    <tr>\n",
       "      <th>2</th>\n",
       "      <td>M</td>\n",
       "      <td>65.00</td>\n",
       "      <td>68.00</td>\n",
       "      <td>64.00</td>\n",
       "      <td>No</td>\n",
       "      <td>75.0</td>\n",
       "      <td>Mkt&amp;Fin</td>\n",
       "      <td>57.80</td>\n",
       "      <td>Placed</td>\n",
       "    </tr>\n",
       "    <tr>\n",
       "      <th>3</th>\n",
       "      <td>M</td>\n",
       "      <td>56.00</td>\n",
       "      <td>52.00</td>\n",
       "      <td>52.00</td>\n",
       "      <td>No</td>\n",
       "      <td>66.0</td>\n",
       "      <td>Mkt&amp;HR</td>\n",
       "      <td>59.43</td>\n",
       "      <td>Not Placed</td>\n",
       "    </tr>\n",
       "    <tr>\n",
       "      <th>4</th>\n",
       "      <td>M</td>\n",
       "      <td>85.80</td>\n",
       "      <td>73.60</td>\n",
       "      <td>73.30</td>\n",
       "      <td>No</td>\n",
       "      <td>96.8</td>\n",
       "      <td>Mkt&amp;Fin</td>\n",
       "      <td>55.50</td>\n",
       "      <td>Placed</td>\n",
       "    </tr>\n",
       "  </tbody>\n",
       "</table>\n",
       "</div>"
      ],
      "text/plain": [
       "  gender  ssc_p  hsc_p  degree_p workex  etest_p specialisation  mba_p  \\\n",
       "0      M  67.00  91.00     58.00     No     55.0         Mkt&HR  58.80   \n",
       "1      M  79.33  78.33     77.48    Yes     86.5        Mkt&Fin  66.28   \n",
       "2      M  65.00  68.00     64.00     No     75.0        Mkt&Fin  57.80   \n",
       "3      M  56.00  52.00     52.00     No     66.0         Mkt&HR  59.43   \n",
       "4      M  85.80  73.60     73.30     No     96.8        Mkt&Fin  55.50   \n",
       "\n",
       "       status  \n",
       "0      Placed  \n",
       "1      Placed  \n",
       "2      Placed  \n",
       "3  Not Placed  \n",
       "4      Placed  "
      ]
     },
     "execution_count": 7,
     "metadata": {},
     "output_type": "execute_result"
    }
   ],
   "source": [
    "data.head()"
   ]
  },
  {
   "cell_type": "markdown",
   "id": "69685552",
   "metadata": {},
   "source": [
    "# Preprocessing\n",
    "\n",
    "# Encoding"
   ]
  },
  {
   "cell_type": "code",
   "execution_count": 8,
   "id": "bd95085a",
   "metadata": {},
   "outputs": [],
   "source": [
    "data[\"gender\"] = data.gender.map({\"M\":0,\"F\":1})\n",
    "data[\"workex\"] = data.workex.map({\"No\":0, \"Yes\":1})\n",
    "data[\"status\"] = data.status.map({\"Not Placed\":0, \"Placed\":1})\n",
    "data[\"specialisation\"] = data.specialisation.map({\"Mkt&HR\":0, \"Mkt&Fin\":1})"
   ]
  },
  {
   "cell_type": "markdown",
   "id": "370c6bee",
   "metadata": {},
   "source": [
    "# Balance Dataset"
   ]
  },
  {
   "cell_type": "code",
   "execution_count": 9,
   "id": "fbd5d1f6",
   "metadata": {},
   "outputs": [
    {
     "data": {
      "text/plain": [
       "status\n",
       "1    148\n",
       "0     67\n",
       "Name: count, dtype: int64"
      ]
     },
     "execution_count": 9,
     "metadata": {},
     "output_type": "execute_result"
    }
   ],
   "source": [
    "data['status'].value_counts()"
   ]
  },
  {
   "cell_type": "code",
   "execution_count": 10,
   "id": "2fc509f3",
   "metadata": {},
   "outputs": [],
   "source": [
    "from sklearn.utils import resample\n",
    "\n",
    "# Separate the majority and minority classes\n",
    "data_majority = data[data['status'] == 1]\n",
    "data_minority = data[data['status'] == 0]\n",
    "\n",
    "# Upsample minority class\n",
    "data_minority_upsampled = resample(data_minority, \n",
    "                                   replace=True,     # sample with replacement\n",
    "                                   n_samples=len(data_majority),    # to match majority class\n",
    "                                   random_state=42) # reproducible results\n",
    "\n",
    "# Combine majority class with upsampled minority class\n",
    "balanced_data = pd.concat([data_majority, data_minority_upsampled])"
   ]
  },
  {
   "cell_type": "code",
   "execution_count": 11,
   "id": "585d629e",
   "metadata": {},
   "outputs": [
    {
     "data": {
      "text/plain": [
       "status\n",
       "1    148\n",
       "0    148\n",
       "Name: count, dtype: int64"
      ]
     },
     "execution_count": 11,
     "metadata": {},
     "output_type": "execute_result"
    }
   ],
   "source": [
    "balanced_data['status'].value_counts()"
   ]
  },
  {
   "cell_type": "markdown",
   "id": "7d791fa8",
   "metadata": {},
   "source": [
    "# Train Test Split"
   ]
  },
  {
   "cell_type": "code",
   "execution_count": 12,
   "id": "d8021725",
   "metadata": {},
   "outputs": [],
   "source": [
    "# Seperating Features and Target\n",
    "X = balanced_data.copy().drop('status', axis=1)\n",
    "y = balanced_data['status']"
   ]
  },
  {
   "cell_type": "code",
   "execution_count": 13,
   "id": "9f4af27f",
   "metadata": {},
   "outputs": [
    {
     "data": {
      "text/plain": [
       "((207, 8), (207,), (89, 8), (89,))"
      ]
     },
     "execution_count": 13,
     "metadata": {},
     "output_type": "execute_result"
    }
   ],
   "source": [
    "#Train Test Split\n",
    "from sklearn.model_selection import train_test_split\n",
    "X_train, X_test, Y_train, Y_test = train_test_split(X, y, test_size=0.3)\n",
    "X_train.shape, Y_train.shape, X_test.shape,Y_test.shape"
   ]
  },
  {
   "cell_type": "markdown",
   "id": "a5f75c59",
   "metadata": {},
   "source": [
    "# Feature Scaling"
   ]
  },
  {
   "cell_type": "code",
   "execution_count": 14,
   "id": "36997044",
   "metadata": {},
   "outputs": [],
   "source": [
    "# scale each features\n",
    "from sklearn.preprocessing import MinMaxScaler\n",
    "scaler = MinMaxScaler()\n",
    "X_train = scaler.fit_transform(X_train)\n",
    "X_test = scaler.transform(X_test)"
   ]
  },
  {
   "cell_type": "markdown",
   "id": "51b9fff4",
   "metadata": {},
   "source": [
    "# 1 k-nearest neighbor"
   ]
  },
  {
   "cell_type": "code",
   "execution_count": 15,
   "id": "dba113e3",
   "metadata": {},
   "outputs": [
    {
     "data": {
      "text/plain": [
       "0.8876404494382022"
      ]
     },
     "execution_count": 15,
     "metadata": {},
     "output_type": "execute_result"
    }
   ],
   "source": [
    "from sklearn.neighbors import KNeighborsClassifier\n",
    "\n",
    "knn = KNeighborsClassifier(n_neighbors = 3)\n",
    "knn.fit(X_train, Y_train)\n",
    "knn_Y_pred = knn.predict(X_test)\n",
    "knn_accuracy = knn.score(X_test, Y_test)\n",
    "knn_accuracy"
   ]
  },
  {
   "cell_type": "code",
   "execution_count": 16,
   "id": "6f711443",
   "metadata": {},
   "outputs": [
    {
     "data": {
      "image/png": "[encoded data removed]",
      "text/plain": [
       "<Figure size 1000x700 with 2 Axes>"
      ]
     },
     "metadata": {},
     "output_type": "display_data"
    }
   ],
   "source": [
    "# creating confusion matrix heatmap\n",
    "from sklearn.metrics import confusion_matrix\n",
    "import matplotlib.pyplot as plt\n",
    "import seaborn as sns\n",
    "\n",
    "conf_mat = confusion_matrix(Y_test, knn_Y_pred)\n",
    "fig = plt.figure(figsize=(10,7))\n",
    "\n",
    "group_names = ['True Neg','False Pos','False Neg','True Pos']\n",
    "group_counts = [\"{0:0.0f}\".format(value) for value in conf_mat.flatten()]\n",
    "labels = [f\"{v1}\\n{v2}\" for v1, v2 in zip(group_names,group_counts)]\n",
    "labels = np.asarray(labels).reshape(2,2)\n",
    "\n",
    "sns.heatmap(conf_mat, annot=labels, annot_kws={\"size\": 16}, fmt='')\n",
    "plt.title(\"Confusion Matrix\")\n",
    "plt.xlabel(\"Predicted Label\")\n",
    "plt.ylabel(\"True Label\")\n",
    "plt.show()"
   ]
  },
  {
   "cell_type": "markdown",
   "id": "ee2d7830",
   "metadata": {},
   "source": [
    "# Decision Tree"
   ]
  },
  {
   "cell_type": "code",
   "execution_count": 17,
   "id": "9219cd0f",
   "metadata": {},
   "outputs": [
    {
     "data": {
      "text/plain": [
       "0.9325842696629213"
      ]
     },
     "execution_count": 17,
     "metadata": {},
     "output_type": "execute_result"
    }
   ],
   "source": [
    "# Decision Tree\n",
    "from sklearn.tree import DecisionTreeClassifier\n",
    "\n",
    "decision_tree = DecisionTreeClassifier()\n",
    "decision_tree.fit(X_train, Y_train)\n",
    "decision_tree_Y_pred = decision_tree.predict(X_test)\n",
    "decision_tree_accuracy = decision_tree.score(X_test, Y_test)\n",
    "decision_tree_accuracy"
   ]
  },
  {
   "cell_type": "code",
   "execution_count": 18,
   "id": "0b5e2821",
   "metadata": {},
   "outputs": [
    {
     "data": {
      "image/png": "[encoded data removed]",
      "text/plain": [
       "<Figure size 1000x700 with 2 Axes>"
      ]
     },
     "metadata": {},
     "output_type": "display_data"
    }
   ],
   "source": [
    "# creating confusion matrix heatmap\n",
    "\n",
    "conf_mat = confusion_matrix(Y_test, decision_tree_Y_pred)\n",
    "fig = plt.figure(figsize=(10,7))\n",
    "group_names = ['True Neg','False Pos','False Neg','True Pos']\n",
    "group_counts = [\"{0:0.0f}\".format(value) for value in\n",
    "                conf_mat.flatten()]\n",
    "labels = [f\"{v1}\\n{v2}\" for v1, v2 in zip(group_names,group_counts)]\n",
    "labels = np.asarray(labels).reshape(2,2)\n",
    "sns.heatmap(conf_mat, annot=labels, annot_kws={\"size\": 16}, fmt='')\n",
    "plt.title(\"Confusion Matrix\")\n",
    "plt.xlabel(\"Predicted Label\")\n",
    "plt.ylabel(\"True Label\")\n",
    "plt.show()"
   ]
  },
  {
   "cell_type": "markdown",
   "id": "1da4f97d",
   "metadata": {},
   "source": [
    "# SVM"
   ]
  },
  {
   "cell_type": "code",
   "execution_count": 19,
   "id": "0e421057",
   "metadata": {},
   "outputs": [
    {
     "data": {
      "text/plain": [
       "0.898876404494382"
      ]
     },
     "execution_count": 19,
     "metadata": {},
     "output_type": "execute_result"
    }
   ],
   "source": [
    "# Support Vector Machine\n",
    "from sklearn.svm import SVC\n",
    "svc = SVC()\n",
    "svc.fit(X_train, Y_train)\n",
    "svm_Y_pred = svc.predict(X_test)\n",
    "svc_accuracy = svc.score(X_test, Y_test)\n",
    "svc_accuracy"
   ]
  },
  {
   "cell_type": "code",
   "execution_count": 20,
   "id": "6f1c2b4d",
   "metadata": {},
   "outputs": [
    {
     "data": {
      "image/png": "[encoded data removed]",
      "text/plain": [
       "<Figure size 1000x700 with 2 Axes>"
      ]
     },
     "metadata": {},
     "output_type": "display_data"
    }
   ],
   "source": [
    "# creating confusion matrix heatmap\n",
    "\n",
    "conf_mat = confusion_matrix(Y_test, svm_Y_pred)\n",
    "fig = plt.figure(figsize=(10,7))\n",
    "group_names = ['True Neg','False Pos','False Neg','True Pos']\n",
    "group_counts = [\"{0:0.0f}\".format(value) for value in\n",
    "                conf_mat.flatten()]\n",
    "labels = [f\"{v1}\\n{v2}\" for v1, v2 in zip(group_names,group_counts)]\n",
    "labels = np.asarray(labels).reshape(2,2)\n",
    "sns.heatmap(conf_mat, annot=labels, annot_kws={\"size\": 16}, fmt='')\n",
    "plt.title(\"Confusion Matrix\")\n",
    "plt.xlabel(\"Predicted Label\")\n",
    "plt.ylabel(\"True Label\")\n",
    "plt.show()"
   ]
  },
  {
   "cell_type": "markdown",
   "id": "c0a69b14",
   "metadata": {},
   "source": [
    "# Random Forest"
   ]
  },
  {
   "cell_type": "code",
   "execution_count": 21,
   "id": "b9013c1d",
   "metadata": {},
   "outputs": [
    {
     "data": {
      "text/plain": [
       "0.9775280898876404"
      ]
     },
     "execution_count": 21,
     "metadata": {},
     "output_type": "execute_result"
    }
   ],
   "source": [
    "from sklearn.ensemble import RandomForestClassifier\n",
    "\n",
    "random_forest = RandomForestClassifier(n_estimators=1000)\n",
    "random_forest.fit(X_train, Y_train)\n",
    "random_forest_Y_pred = random_forest.predict(X_test)\n",
    "random_forest.score(X_train, Y_train)\n",
    "random_forest_accuracy = random_forest.score(X_test, Y_test)\n",
    "random_forest_accuracy"
   ]
  },
  {
   "cell_type": "code",
   "execution_count": 22,
   "id": "f19ae24d",
   "metadata": {},
   "outputs": [
    {
     "data": {
      "image/png": "[encoded data removed]",
      "text/plain": [
       "<Figure size 1000x700 with 2 Axes>"
      ]
     },
     "metadata": {},
     "output_type": "display_data"
    }
   ],
   "source": [
    "# creating confusion matrix heatmap\n",
    "\n",
    "conf_mat = confusion_matrix(Y_test, random_forest_Y_pred)\n",
    "fig = plt.figure(figsize=(10,7))\n",
    "group_names = ['True Neg','False Pos','False Neg','True Pos']\n",
    "group_counts = [\"{0:0.0f}\".format(value) for value in\n",
    "                conf_mat.flatten()]\n",
    "labels = [f\"{v1}\\n{v2}\" for v1, v2 in zip(group_names,group_counts)]\n",
    "labels = np.asarray(labels).reshape(2,2)\n",
    "sns.heatmap(conf_mat, annot=labels, annot_kws={\"size\": 16}, fmt='')\n",
    "plt.title(\"Confusion Matrix\")\n",
    "plt.xlabel(\"Predicted Label\")\n",
    "plt.ylabel(\"True Label\")\n",
    "plt.show()"
   ]
  },
  {
   "cell_type": "markdown",
   "id": "d955a180",
   "metadata": {},
   "source": [
    "# Gaussian Naive Bayes"
   ]
  },
  {
   "cell_type": "code",
   "execution_count": 23,
   "id": "624b7e7c",
   "metadata": {},
   "outputs": [
    {
     "data": {
      "text/plain": [
       "0.8651685393258427"
      ]
     },
     "execution_count": 23,
     "metadata": {},
     "output_type": "execute_result"
    }
   ],
   "source": [
    "from sklearn.naive_bayes import GaussianNB\n",
    "gaussian = GaussianNB()\n",
    "gaussian.fit(X_train, Y_train)\n",
    "gaussian_Y_pred = gaussian.predict(X_test)\n",
    "gaussian_accuracy = gaussian.score(X_test, Y_test)\n",
    "gaussian_accuracy"
   ]
  },
  {
   "cell_type": "markdown",
   "id": "5d3ae3d1",
   "metadata": {},
   "source": [
    "# Logistic Regression"
   ]
  },
  {
   "cell_type": "code",
   "execution_count": 24,
   "id": "c7dcb703",
   "metadata": {},
   "outputs": [
    {
     "data": {
      "text/plain": [
       "0.898876404494382"
      ]
     },
     "execution_count": 24,
     "metadata": {},
     "output_type": "execute_result"
    }
   ],
   "source": [
    "from sklearn.linear_model import LogisticRegression\n",
    "lg = LogisticRegression()\n",
    "lg.fit(X_train, Y_train)\n",
    "lg_Y_pred = lg.predict(X_test)\n",
    "lg_accuracy = lg.score(X_test, Y_test)\n",
    "lg_accuracy"
   ]
  },
  {
   "cell_type": "markdown",
   "id": "241f0bf9",
   "metadata": {},
   "source": [
    "# Single Input Predictions"
   ]
  },
  {
   "cell_type": "code",
   "execution_count": 25,
   "id": "e4bb72fd",
   "metadata": {},
   "outputs": [
    {
     "name": "stdout",
     "output_type": "stream",
     "text": [
      "Predicted Class : 1\n",
      "Actual Class: 0\n"
     ]
    }
   ],
   "source": [
    "print(\"Predicted Class :\",random_forest.predict(X_train[10].reshape(1,-1))[0])\n",
    "print(\"Actual Class:\", Y_test.iloc[10])"
   ]
  },
  {
   "cell_type": "code",
   "execution_count": 26,
   "id": "43534b92",
   "metadata": {},
   "outputs": [
    {
     "name": "stdout",
     "output_type": "stream",
     "text": [
      "Predicted Class : 0\n",
      "Actual Class: 1\n"
     ]
    }
   ],
   "source": [
    "print(\"Predicted Class :\",random_forest.predict(X_train[50].reshape(1,-1))[0])\n",
    "print(\"Actual Class:\", Y_test.iloc[50])"
   ]
  },
  {
   "cell_type": "markdown",
   "id": "812f8e6d",
   "metadata": {},
   "source": [
    "# Predictive system"
   ]
  },
  {
   "cell_type": "code",
   "execution_count": 30,
   "id": "8bfcec22",
   "metadata": {},
   "outputs": [],
   "source": [
    "def prediction(gender, ssc_p, hsc_p, degree_p, workex, etest_p, specialisation, mba_p):\n",
    "    data = {\n",
    "    'gender': [gender],\n",
    "    'ssc_p': [ssc_p],\n",
    "    'hsc_p': [hsc_p],\n",
    "    'degree_p': [degree_p],\n",
    "    'workex': [workex],\n",
    "    'etest_p': [etest_p],\n",
    "    'specialisation': [specialisation],\n",
    "    'mba_p': [mba_p]\n",
    "    }\n",
    "    data = pd.DataFrame(data)\n",
    "    data['gender'] = data['gender'].map({'M':1,\"F\":0})\n",
    "    data['workex'] = data['workex'].map({\"Yes\":1,\"No\":0})\n",
    "    data['specialisation'] = data['specialisation'].map({\"Mkt&HR\":1,\"Mkt&Fin\":0})\n",
    "    scaled_df = scaler.fit_transform(data)\n",
    "    result = random_forest.predict(scaled_df).reshape(1, -1)\n",
    "    return result[0]"
   ]
  },
  {
   "cell_type": "code",
   "execution_count": 32,
   "id": "b77edff6",
   "metadata": {},
   "outputs": [
    {
     "name": "stdout",
     "output_type": "stream",
     "text": [
      "not place\n"
     ]
    }
   ],
   "source": [
    "\n",
    "gender = \"F\"\n",
    "ssc_p =58.\n",
    "hsc_p = 61.\n",
    "degree_p = 60.\n",
    "workex = \"Yes\"\n",
    "etest_p = 62.\n",
    "specialisation = \"Mkt&Fin\"\n",
    "mba_p = 60.85\n",
    "\n",
    "result = prediction( gender, ssc_p, hsc_p, degree_p, workex, etest_p, specialisation, mba_p)\n",
    "\n",
    "if result == 1:\n",
    "    print('place')\n",
    "\n",
    "else:\n",
    "    print('not place')"
   ]
  },
  {
   "cell_type": "markdown",
   "id": "3296f614",
   "metadata": {},
   "source": [
    "# Save Files"
   ]
  },
  {
   "cell_type": "code",
   "execution_count": 33,
   "id": "57141f18",
   "metadata": {},
   "outputs": [],
   "source": [
    "import pickle\n",
    "pickle.dump(random_forest,open('model.pkl','wb'))\n",
    "pickle.dump(scaler,open(\"scaler.pkl\",'wb'))"
   ]
  },
  {
   "cell_type": "code",
   "execution_count": null,
   "id": "efd6ebb1",
   "metadata": {},
   "outputs": [],
   "source": []
  },
  {
   "cell_type": "code",
   "execution_count": null,
   "id": "a32417e4-ca36-4964-b75c-35f8927f9147",
   "metadata": {},
   "outputs": [],
   "source": []
  }
 ],
 "metadata": {
  "kernelspec": {
   "display_name": "Python 3 (ipykernel)",
   "language": "python",
   "name": "python3"
  },
  "language_info": {
   "codemirror_mode": {
    "name": "ipython",
    "version": 3
   },
   "file_extension": ".py",
   "mimetype": "text/x-python",
   "name": "python",
   "nbconvert_exporter": "python",
   "pygments_lexer": "ipython3",
   "version": "3.11.7"
  }
 },
 "nbformat": 4,
 "nbformat_minor": 5
}
